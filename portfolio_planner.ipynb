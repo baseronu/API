{
 "cells": [
  {
   "cell_type": "code",
   "execution_count": 1,
   "metadata": {},
   "outputs": [],
   "source": [
    "# Import libraries and dependencies\n",
    "import numpy as np\n",
    "import pandas as pd\n",
    "import os\n",
    "from datetime import datetime, timedelta\n",
    "import matplotlib.pyplot as plt\n",
    "import alpaca_trade_api as tradeapi\n",
    "%matplotlib inline"
   ]
  },
  {
   "cell_type": "code",
   "execution_count": 2,
   "metadata": {},
   "outputs": [],
   "source": [
    "np.random.seed(42)"
   ]
  },
  {
   "cell_type": "markdown",
   "metadata": {},
   "source": [
    "# Portfolio Planner\n",
    "\n",
    "In this activity, you will use the Alpaca api to grab historical data for a 60/40 portfolio using `SPY` to represent the stock portion and `AGG` to represent the bonds."
   ]
  },
  {
   "cell_type": "code",
   "execution_count": 3,
   "metadata": {},
   "outputs": [],
   "source": [
    "# Load .env enviroment variables\n",
    "from dotenv import load_dotenv\n",
    "load_dotenv()\n",
    "\n",
    "# Set Alpaca API key and secret\n",
    "alpaca_api_key = os.getenv(\"ALPACA_API_KEY\")\n",
    "alpaca_secret_key = os.getenv(\"ALPACA_SECRET_KEY\")\n",
    "\n",
    "# api = tradeapi.REST()\n",
    "api = tradeapi.REST(alpaca_api_key, alpaca_secret_key, api_version='v2')"
   ]
  },
  {
   "cell_type": "markdown",
   "metadata": {},
   "source": [
    "# Data Collection\n",
    "\n",
    "In this step, you will need to use the Alpaca api to fetch closing prices for the `SPY` and `AGG` tickers. Save the results as a pandas DataFrame"
   ]
  },
  {
   "cell_type": "code",
   "execution_count": 132,
   "metadata": {},
   "outputs": [],
   "source": [
    "# Get all Asstes\n",
    "assets = api.list_assets()\n",
    "\n",
    "# Keep only tradeable assets\n",
    "tradeable = [asset for asset in assets if asset.tradable ]\n",
    "# Create a new empty DataFrame\n",
    "asset_info_df = pd.DataFrame()\n",
    "asset_info_df['symbol'] = pd.Series([asset.symbol for asset in assets])\n",
    "# Display the first 10 asset tickers\n",
    "# Set the ticker\n",
    "myportfolio=[\"AGG\",\"SPY\"]\n",
    "timeframe = '1D'\n",
    "# Set start and end datetimes of 1 year, between now and 365 days ago.\n",
    "end_date = datetime.now()\n",
    "start_date = end_date + timedelta(-365)\n",
    "# Get 1 year's worth of historical data for AGG,SPY\n",
    "\n",
    "df=api.get_barset(\n",
    "    myportfolio,\n",
    "    timeframe,\n",
    "    limit=None,\n",
    "    start=start_date,\n",
    "    end=end_date,\n",
    "    after=None,\n",
    "    until=None,\n",
    "    ).df\n",
    " \n",
    "#df.head(2)\n",
    " "
   ]
  },
  {
   "cell_type": "code",
   "execution_count": 133,
   "metadata": {},
   "outputs": [],
   "source": [
    "df = df.droplevel(axis=1, level=0)\n",
    "df.drop(columns=['open', 'high', 'low', 'volume'], inplace=True) \n",
    "df.index = df.index.date\n",
    "df.columns=['AGG','SPY']\n",
    "df['port']=.4*df['AGG']+0.6*df['SPY']\n",
    "df.drop(columns=['AGG','SPY'], inplace=True)\n",
    "#df.head(2)"
   ]
  },
  {
   "cell_type": "code",
   "execution_count": null,
   "metadata": {},
   "outputs": [],
   "source": [
    "# Calculate the Daily Return of the Portfolio"
   ]
  },
  {
   "cell_type": "code",
   "execution_count": 134,
   "metadata": {},
   "outputs": [
    {
     "data": {
      "text/html": [
       "<div>\n",
       "<style scoped>\n",
       "    .dataframe tbody tr th:only-of-type {\n",
       "        vertical-align: middle;\n",
       "    }\n",
       "\n",
       "    .dataframe tbody tr th {\n",
       "        vertical-align: top;\n",
       "    }\n",
       "\n",
       "    .dataframe thead th {\n",
       "        text-align: right;\n",
       "    }\n",
       "</style>\n",
       "<table border=\"1\" class=\"dataframe\">\n",
       "  <thead>\n",
       "    <tr style=\"text-align: right;\">\n",
       "      <th></th>\n",
       "      <th>port</th>\n",
       "    </tr>\n",
       "  </thead>\n",
       "  <tbody>\n",
       "    <tr>\n",
       "      <th>2019-12-02</th>\n",
       "      <td>NaN</td>\n",
       "    </tr>\n",
       "    <tr>\n",
       "      <th>2019-12-03</th>\n",
       "      <td>-0.004579</td>\n",
       "    </tr>\n",
       "    <tr>\n",
       "      <th>2019-12-04</th>\n",
       "      <td>0.004816</td>\n",
       "    </tr>\n",
       "    <tr>\n",
       "      <th>2019-12-05</th>\n",
       "      <td>0.001310</td>\n",
       "    </tr>\n",
       "    <tr>\n",
       "      <th>2019-12-06</th>\n",
       "      <td>0.006948</td>\n",
       "    </tr>\n",
       "  </tbody>\n",
       "</table>\n",
       "</div>"
      ],
      "text/plain": [
       "                port\n",
       "2019-12-02       NaN\n",
       "2019-12-03 -0.004579\n",
       "2019-12-04  0.004816\n",
       "2019-12-05  0.001310\n",
       "2019-12-06  0.006948"
      ]
     },
     "execution_count": 134,
     "metadata": {},
     "output_type": "execute_result"
    }
   ],
   "source": [
    "# Use the `pct_change` function to calculate daily returns of AAPL\n",
    "daily_returns=df.pct_change()\n",
    "daily_returns.head()"
   ]
  },
  {
   "cell_type": "code",
   "execution_count": null,
   "metadata": {},
   "outputs": [],
   "source": [
    "Calculate the Volatility of Return"
   ]
  },
  {
   "cell_type": "code",
   "execution_count": 135,
   "metadata": {},
   "outputs": [
    {
     "data": {
      "text/plain": [
       "0.024123114218262093"
      ]
     },
     "execution_count": 135,
     "metadata": {},
     "output_type": "execute_result"
    }
   ],
   "source": [
    "# Use the `std` function to calculate the standard deviation of daily returns for AAPL\n",
    "std_dev_daily_return= daily_returns.std()['port']\n",
    "std_dev_daily_return"
   ]
  },
  {
   "cell_type": "code",
   "execution_count": null,
   "metadata": {},
   "outputs": [],
   "source": []
  },
  {
   "cell_type": "code",
   "execution_count": 136,
   "metadata": {},
   "outputs": [
    {
     "data": {
      "text/plain": [
       "216.764"
      ]
     },
     "execution_count": 136,
     "metadata": {},
     "output_type": "execute_result"
    }
   ],
   "source": [
    "# Set number of trading days and get last closing price of AAPL from DataFrame\n",
    "num_trading_days = 252 *30\n",
    "num_simulations = 500\n",
    "last_price =df['port'][-1]\n",
    "last_price "
   ]
  },
  {
   "cell_type": "code",
   "execution_count": 137,
   "metadata": {},
   "outputs": [
    {
     "data": {
      "text/html": [
       "<div>\n",
       "<style scoped>\n",
       "    .dataframe tbody tr th:only-of-type {\n",
       "        vertical-align: middle;\n",
       "    }\n",
       "\n",
       "    .dataframe tbody tr th {\n",
       "        vertical-align: top;\n",
       "    }\n",
       "\n",
       "    .dataframe thead th {\n",
       "        text-align: right;\n",
       "    }\n",
       "</style>\n",
       "<table border=\"1\" class=\"dataframe\">\n",
       "  <thead>\n",
       "    <tr style=\"text-align: right;\">\n",
       "      <th></th>\n",
       "      <th>Simulation 1</th>\n",
       "      <th>Simulation 2</th>\n",
       "      <th>Simulation 3</th>\n",
       "      <th>Simulation 4</th>\n",
       "      <th>Simulation 5</th>\n",
       "      <th>Simulation 6</th>\n",
       "      <th>Simulation 7</th>\n",
       "      <th>Simulation 8</th>\n",
       "      <th>Simulation 9</th>\n",
       "      <th>Simulation 10</th>\n",
       "      <th>...</th>\n",
       "      <th>Simulation 491</th>\n",
       "      <th>Simulation 492</th>\n",
       "      <th>Simulation 493</th>\n",
       "      <th>Simulation 494</th>\n",
       "      <th>Simulation 495</th>\n",
       "      <th>Simulation 496</th>\n",
       "      <th>Simulation 497</th>\n",
       "      <th>Simulation 498</th>\n",
       "      <th>Simulation 499</th>\n",
       "      <th>Simulation 500</th>\n",
       "    </tr>\n",
       "  </thead>\n",
       "  <tbody>\n",
       "    <tr>\n",
       "      <th>0</th>\n",
       "      <td>216.764000</td>\n",
       "      <td>216.764000</td>\n",
       "      <td>216.764000</td>\n",
       "      <td>216.764000</td>\n",
       "      <td>216.764000</td>\n",
       "      <td>216.764000</td>\n",
       "      <td>216.764000</td>\n",
       "      <td>216.764000</td>\n",
       "      <td>216.764000</td>\n",
       "      <td>216.764000</td>\n",
       "      <td>...</td>\n",
       "      <td>216.764000</td>\n",
       "      <td>216.764000</td>\n",
       "      <td>216.764000</td>\n",
       "      <td>216.764000</td>\n",
       "      <td>216.764000</td>\n",
       "      <td>216.764000</td>\n",
       "      <td>216.764000</td>\n",
       "      <td>216.764000</td>\n",
       "      <td>216.764000</td>\n",
       "      <td>216.764000</td>\n",
       "    </tr>\n",
       "    <tr>\n",
       "      <th>1</th>\n",
       "      <td>219.276070</td>\n",
       "      <td>208.664301</td>\n",
       "      <td>211.292350</td>\n",
       "      <td>211.816133</td>\n",
       "      <td>208.873922</td>\n",
       "      <td>215.463973</td>\n",
       "      <td>214.716063</td>\n",
       "      <td>208.739907</td>\n",
       "      <td>220.118554</td>\n",
       "      <td>218.431126</td>\n",
       "      <td>...</td>\n",
       "      <td>212.989649</td>\n",
       "      <td>219.313655</td>\n",
       "      <td>211.841649</td>\n",
       "      <td>211.360476</td>\n",
       "      <td>217.577327</td>\n",
       "      <td>213.350272</td>\n",
       "      <td>215.777608</td>\n",
       "      <td>225.723097</td>\n",
       "      <td>213.159552</td>\n",
       "      <td>226.264846</td>\n",
       "    </tr>\n",
       "    <tr>\n",
       "      <th>2</th>\n",
       "      <td>218.458456</td>\n",
       "      <td>202.901316</td>\n",
       "      <td>211.956633</td>\n",
       "      <td>205.473613</td>\n",
       "      <td>208.089522</td>\n",
       "      <td>212.441763</td>\n",
       "      <td>220.150054</td>\n",
       "      <td>208.580407</td>\n",
       "      <td>231.957783</td>\n",
       "      <td>219.860790</td>\n",
       "      <td>...</td>\n",
       "      <td>203.994373</td>\n",
       "      <td>216.709346</td>\n",
       "      <td>211.631868</td>\n",
       "      <td>217.708124</td>\n",
       "      <td>221.804161</td>\n",
       "      <td>214.095838</td>\n",
       "      <td>222.930078</td>\n",
       "      <td>218.583805</td>\n",
       "      <td>213.355556</td>\n",
       "      <td>233.979359</td>\n",
       "    </tr>\n",
       "    <tr>\n",
       "      <th>3</th>\n",
       "      <td>221.785783</td>\n",
       "      <td>207.581245</td>\n",
       "      <td>214.902856</td>\n",
       "      <td>202.450026</td>\n",
       "      <td>205.840960</td>\n",
       "      <td>204.202756</td>\n",
       "      <td>220.246005</td>\n",
       "      <td>203.125356</td>\n",
       "      <td>235.793164</td>\n",
       "      <td>215.969837</td>\n",
       "      <td>...</td>\n",
       "      <td>205.891806</td>\n",
       "      <td>219.113535</td>\n",
       "      <td>215.303434</td>\n",
       "      <td>207.245916</td>\n",
       "      <td>218.292177</td>\n",
       "      <td>207.031451</td>\n",
       "      <td>222.380146</td>\n",
       "      <td>214.117378</td>\n",
       "      <td>215.021376</td>\n",
       "      <td>242.216772</td>\n",
       "    </tr>\n",
       "    <tr>\n",
       "      <th>4</th>\n",
       "      <td>229.847007</td>\n",
       "      <td>211.870085</td>\n",
       "      <td>218.084888</td>\n",
       "      <td>202.734294</td>\n",
       "      <td>210.458839</td>\n",
       "      <td>194.815426</td>\n",
       "      <td>209.543393</td>\n",
       "      <td>203.674965</td>\n",
       "      <td>231.461871</td>\n",
       "      <td>222.122623</td>\n",
       "      <td>...</td>\n",
       "      <td>202.921776</td>\n",
       "      <td>222.919361</td>\n",
       "      <td>222.080076</td>\n",
       "      <td>204.431195</td>\n",
       "      <td>218.359187</td>\n",
       "      <td>204.904318</td>\n",
       "      <td>229.088575</td>\n",
       "      <td>209.540959</td>\n",
       "      <td>211.784217</td>\n",
       "      <td>235.695978</td>\n",
       "    </tr>\n",
       "  </tbody>\n",
       "</table>\n",
       "<p>5 rows × 500 columns</p>\n",
       "</div>"
      ],
      "text/plain": [
       "   Simulation 1  Simulation 2  Simulation 3  Simulation 4  Simulation 5  \\\n",
       "0    216.764000    216.764000    216.764000    216.764000    216.764000   \n",
       "1    219.276070    208.664301    211.292350    211.816133    208.873922   \n",
       "2    218.458456    202.901316    211.956633    205.473613    208.089522   \n",
       "3    221.785783    207.581245    214.902856    202.450026    205.840960   \n",
       "4    229.847007    211.870085    218.084888    202.734294    210.458839   \n",
       "\n",
       "   Simulation 6  Simulation 7  Simulation 8  Simulation 9  Simulation 10  ...  \\\n",
       "0    216.764000    216.764000    216.764000    216.764000     216.764000  ...   \n",
       "1    215.463973    214.716063    208.739907    220.118554     218.431126  ...   \n",
       "2    212.441763    220.150054    208.580407    231.957783     219.860790  ...   \n",
       "3    204.202756    220.246005    203.125356    235.793164     215.969837  ...   \n",
       "4    194.815426    209.543393    203.674965    231.461871     222.122623  ...   \n",
       "\n",
       "   Simulation 491  Simulation 492  Simulation 493  Simulation 494  \\\n",
       "0      216.764000      216.764000      216.764000      216.764000   \n",
       "1      212.989649      219.313655      211.841649      211.360476   \n",
       "2      203.994373      216.709346      211.631868      217.708124   \n",
       "3      205.891806      219.113535      215.303434      207.245916   \n",
       "4      202.921776      222.919361      222.080076      204.431195   \n",
       "\n",
       "   Simulation 495  Simulation 496  Simulation 497  Simulation 498  \\\n",
       "0      216.764000      216.764000      216.764000      216.764000   \n",
       "1      217.577327      213.350272      215.777608      225.723097   \n",
       "2      221.804161      214.095838      222.930078      218.583805   \n",
       "3      218.292177      207.031451      222.380146      214.117378   \n",
       "4      218.359187      204.904318      229.088575      209.540959   \n",
       "\n",
       "   Simulation 499  Simulation 500  \n",
       "0      216.764000      216.764000  \n",
       "1      213.159552      226.264846  \n",
       "2      213.355556      233.979359  \n",
       "3      215.021376      242.216772  \n",
       "4      211.784217      235.695978  \n",
       "\n",
       "[5 rows x 500 columns]"
      ]
     },
     "execution_count": 137,
     "metadata": {},
     "output_type": "execute_result"
    }
   ],
   "source": [
    "# Initialize the simulated prices list with the last closing price of AAPL\n",
    "simulated_prices = [last_price]\n",
    "avg_daily_return = daily_returns.mean()['port']\n",
    "\n",
    "# Initialize empty DataFrame to hold simulated prices for each simulation\n",
    "simulated_price_df = pd.DataFrame()\n",
    "\n",
    "# Run the simulation of projecting stock prices for the next trading year, `500` times\n",
    "for n in range(num_simulations):\n",
    "\n",
    "    # Initialize the simulated prices list with the last closing price of AAPL\n",
    "    simulated_prices = [last_price]\n",
    "    \n",
    "    # Simulate the returns for 252 *30 days\n",
    "    for i in range(num_trading_days):\n",
    "        # Calculate the simulated price using the last price within the list\n",
    "        simulated_price = simulated_prices[-1] * (1 + np.random.normal(avg_daily_return, std_dev_daily_return))\n",
    "        # Append the simulated price to the list\n",
    "        simulated_prices.append(simulated_price)\n",
    "    \n",
    "    # Append a simulated prices of each simulation to DataFrame\n",
    "    simulated_price_df[f\"Simulation {n+1}\"] = pd.Series(simulated_prices)\n",
    "\n",
    "# Print head of DataFrame\n",
    "simulated_price_df.head()"
   ]
  },
  {
   "cell_type": "code",
   "execution_count": null,
   "metadata": {},
   "outputs": [],
   "source": []
  },
  {
   "cell_type": "code",
   "execution_count": 139,
   "metadata": {},
   "outputs": [
    {
     "data": {
      "text/plain": [
       "<matplotlib.axes._subplots.AxesSubplot at 0x117cd3590>"
      ]
     },
     "execution_count": 139,
     "metadata": {},
     "output_type": "execute_result"
    },
    {
     "data": {
      "image/png": "[encoded data removed]",
      "text/plain": [
       "<Figure size 432x288 with 1 Axes>"
      ]
     },
     "metadata": {
      "needs_background": "light"
     },
     "output_type": "display_data"
    }
   ],
   "source": [
    "# Use the `plot` function to plot the trajectory of Portfolio stock based on a 252 * 30 trading day simulation\n",
    "plot_title = f\"{n+1} Simulations of Portfolion Trajectory Over the Next 30 years\"\n",
    "simulated_price_df.plot(legend=None, title=plot_title)"
   ]
  },
  {
   "cell_type": "code",
   "execution_count": 141,
   "metadata": {},
   "outputs": [
    {
     "data": {
      "text/html": [
       "<div>\n",
       "<style scoped>\n",
       "    .dataframe tbody tr th:only-of-type {\n",
       "        vertical-align: middle;\n",
       "    }\n",
       "\n",
       "    .dataframe tbody tr th {\n",
       "        vertical-align: top;\n",
       "    }\n",
       "\n",
       "    .dataframe thead th {\n",
       "        text-align: right;\n",
       "    }\n",
       "</style>\n",
       "<table border=\"1\" class=\"dataframe\">\n",
       "  <thead>\n",
       "    <tr style=\"text-align: right;\">\n",
       "      <th></th>\n",
       "      <th>Simulation 1</th>\n",
       "      <th>Simulation 2</th>\n",
       "      <th>Simulation 3</th>\n",
       "      <th>Simulation 4</th>\n",
       "      <th>Simulation 5</th>\n",
       "      <th>Simulation 6</th>\n",
       "      <th>Simulation 7</th>\n",
       "      <th>Simulation 8</th>\n",
       "      <th>Simulation 9</th>\n",
       "      <th>Simulation 10</th>\n",
       "      <th>...</th>\n",
       "      <th>Simulation 491</th>\n",
       "      <th>Simulation 492</th>\n",
       "      <th>Simulation 493</th>\n",
       "      <th>Simulation 494</th>\n",
       "      <th>Simulation 495</th>\n",
       "      <th>Simulation 496</th>\n",
       "      <th>Simulation 497</th>\n",
       "      <th>Simulation 498</th>\n",
       "      <th>Simulation 499</th>\n",
       "      <th>Simulation 500</th>\n",
       "    </tr>\n",
       "  </thead>\n",
       "  <tbody>\n",
       "    <tr>\n",
       "      <th>0</th>\n",
       "      <td>1.000000</td>\n",
       "      <td>1.000000</td>\n",
       "      <td>1.000000</td>\n",
       "      <td>1.000000</td>\n",
       "      <td>1.000000</td>\n",
       "      <td>1.000000</td>\n",
       "      <td>1.000000</td>\n",
       "      <td>1.000000</td>\n",
       "      <td>1.000000</td>\n",
       "      <td>1.000000</td>\n",
       "      <td>...</td>\n",
       "      <td>1.000000</td>\n",
       "      <td>1.000000</td>\n",
       "      <td>1.000000</td>\n",
       "      <td>1.000000</td>\n",
       "      <td>1.000000</td>\n",
       "      <td>1.000000</td>\n",
       "      <td>1.000000</td>\n",
       "      <td>1.000000</td>\n",
       "      <td>1.000000</td>\n",
       "      <td>1.000000</td>\n",
       "    </tr>\n",
       "    <tr>\n",
       "      <th>1</th>\n",
       "      <td>1.011589</td>\n",
       "      <td>0.962634</td>\n",
       "      <td>0.974758</td>\n",
       "      <td>0.977174</td>\n",
       "      <td>0.963601</td>\n",
       "      <td>0.994003</td>\n",
       "      <td>0.990552</td>\n",
       "      <td>0.962982</td>\n",
       "      <td>1.015476</td>\n",
       "      <td>1.007691</td>\n",
       "      <td>...</td>\n",
       "      <td>0.982588</td>\n",
       "      <td>1.011762</td>\n",
       "      <td>0.977292</td>\n",
       "      <td>0.975072</td>\n",
       "      <td>1.003752</td>\n",
       "      <td>0.984251</td>\n",
       "      <td>0.995449</td>\n",
       "      <td>1.041331</td>\n",
       "      <td>0.983372</td>\n",
       "      <td>1.043830</td>\n",
       "    </tr>\n",
       "    <tr>\n",
       "      <th>2</th>\n",
       "      <td>1.007817</td>\n",
       "      <td>0.936047</td>\n",
       "      <td>0.977822</td>\n",
       "      <td>0.947914</td>\n",
       "      <td>0.959982</td>\n",
       "      <td>0.980060</td>\n",
       "      <td>1.015621</td>\n",
       "      <td>0.962247</td>\n",
       "      <td>1.070094</td>\n",
       "      <td>1.014286</td>\n",
       "      <td>...</td>\n",
       "      <td>0.941090</td>\n",
       "      <td>0.999748</td>\n",
       "      <td>0.976324</td>\n",
       "      <td>1.004356</td>\n",
       "      <td>1.023252</td>\n",
       "      <td>0.987691</td>\n",
       "      <td>1.028446</td>\n",
       "      <td>1.008395</td>\n",
       "      <td>0.984276</td>\n",
       "      <td>1.079420</td>\n",
       "    </tr>\n",
       "    <tr>\n",
       "      <th>3</th>\n",
       "      <td>1.023167</td>\n",
       "      <td>0.957637</td>\n",
       "      <td>0.991414</td>\n",
       "      <td>0.933965</td>\n",
       "      <td>0.949609</td>\n",
       "      <td>0.942051</td>\n",
       "      <td>1.016064</td>\n",
       "      <td>0.937081</td>\n",
       "      <td>1.087787</td>\n",
       "      <td>0.996336</td>\n",
       "      <td>...</td>\n",
       "      <td>0.949843</td>\n",
       "      <td>1.010839</td>\n",
       "      <td>0.993262</td>\n",
       "      <td>0.956090</td>\n",
       "      <td>1.007050</td>\n",
       "      <td>0.955101</td>\n",
       "      <td>1.025909</td>\n",
       "      <td>0.987790</td>\n",
       "      <td>0.991961</td>\n",
       "      <td>1.117422</td>\n",
       "    </tr>\n",
       "    <tr>\n",
       "      <th>4</th>\n",
       "      <td>1.060356</td>\n",
       "      <td>0.977423</td>\n",
       "      <td>1.006094</td>\n",
       "      <td>0.935277</td>\n",
       "      <td>0.970912</td>\n",
       "      <td>0.898744</td>\n",
       "      <td>0.966689</td>\n",
       "      <td>0.939616</td>\n",
       "      <td>1.067806</td>\n",
       "      <td>1.024721</td>\n",
       "      <td>...</td>\n",
       "      <td>0.936142</td>\n",
       "      <td>1.028397</td>\n",
       "      <td>1.024525</td>\n",
       "      <td>0.943105</td>\n",
       "      <td>1.007359</td>\n",
       "      <td>0.945288</td>\n",
       "      <td>1.056857</td>\n",
       "      <td>0.966678</td>\n",
       "      <td>0.977027</td>\n",
       "      <td>1.087339</td>\n",
       "    </tr>\n",
       "  </tbody>\n",
       "</table>\n",
       "<p>5 rows × 500 columns</p>\n",
       "</div>"
      ],
      "text/plain": [
       "   Simulation 1  Simulation 2  Simulation 3  Simulation 4  Simulation 5  \\\n",
       "0      1.000000      1.000000      1.000000      1.000000      1.000000   \n",
       "1      1.011589      0.962634      0.974758      0.977174      0.963601   \n",
       "2      1.007817      0.936047      0.977822      0.947914      0.959982   \n",
       "3      1.023167      0.957637      0.991414      0.933965      0.949609   \n",
       "4      1.060356      0.977423      1.006094      0.935277      0.970912   \n",
       "\n",
       "   Simulation 6  Simulation 7  Simulation 8  Simulation 9  Simulation 10  ...  \\\n",
       "0      1.000000      1.000000      1.000000      1.000000       1.000000  ...   \n",
       "1      0.994003      0.990552      0.962982      1.015476       1.007691  ...   \n",
       "2      0.980060      1.015621      0.962247      1.070094       1.014286  ...   \n",
       "3      0.942051      1.016064      0.937081      1.087787       0.996336  ...   \n",
       "4      0.898744      0.966689      0.939616      1.067806       1.024721  ...   \n",
       "\n",
       "   Simulation 491  Simulation 492  Simulation 493  Simulation 494  \\\n",
       "0        1.000000        1.000000        1.000000        1.000000   \n",
       "1        0.982588        1.011762        0.977292        0.975072   \n",
       "2        0.941090        0.999748        0.976324        1.004356   \n",
       "3        0.949843        1.010839        0.993262        0.956090   \n",
       "4        0.936142        1.028397        1.024525        0.943105   \n",
       "\n",
       "   Simulation 495  Simulation 496  Simulation 497  Simulation 498  \\\n",
       "0        1.000000        1.000000        1.000000        1.000000   \n",
       "1        1.003752        0.984251        0.995449        1.041331   \n",
       "2        1.023252        0.987691        1.028446        1.008395   \n",
       "3        1.007050        0.955101        1.025909        0.987790   \n",
       "4        1.007359        0.945288        1.056857        0.966678   \n",
       "\n",
       "   Simulation 499  Simulation 500  \n",
       "0        1.000000        1.000000  \n",
       "1        0.983372        1.043830  \n",
       "2        0.984276        1.079420  \n",
       "3        0.991961        1.117422  \n",
       "4        0.977027        1.087339  \n",
       "\n",
       "[5 rows x 500 columns]"
      ]
     },
     "execution_count": 141,
     "metadata": {},
     "output_type": "execute_result"
    }
   ],
   "source": [
    "  # Calculate the daily returns of simulated prices\n",
    "simulated_daily_returns = simulated_price_df.pct_change()\n",
    "# Calculate the normalized, cumulative return series\n",
    "portfolio_cumulative_returns= (1 + simulated_daily_returns.fillna(0)).cumprod()\n",
    "# Print records from the DataFrame\n",
    "portfolio_cumulative_returns.head()\n"
   ]
  },
  {
   "cell_type": "code",
   "execution_count": 142,
   "metadata": {},
   "outputs": [
    {
     "data": {
      "text/plain": [
       "<matplotlib.axes._subplots.AxesSubplot at 0x1173174d0>"
      ]
     },
     "execution_count": 142,
     "metadata": {},
     "output_type": "execute_result"
    },
    {
     "data": {
      "image/png": "[encoded data removed]",
      "text/plain": [
       "<Figure size 432x288 with 1 Axes>"
      ]
     },
     "metadata": {
      "needs_background": "light"
     },
     "output_type": "display_data"
    }
   ],
   "source": [
    "# Use the `plot` function to plot `500` simulations of the potential trajectories of the portfolio based on 252 trading days\n",
    "plot_title = f\"{n+1} Simulations of Cumulative Portfolio Return Trajectories Over the Next 3 years\"\n",
    "portfolio_cumulative_returns.plot(legend=None, title=plot_title)"
   ]
  },
  {
   "cell_type": "code",
   "execution_count": null,
   "metadata": {},
   "outputs": [],
   "source": []
  },
  {
   "cell_type": "code",
   "execution_count": 148,
   "metadata": {},
   "outputs": [
    {
     "data": {
      "text/plain": [
       "0.05    0.000151\n",
       "0.95    0.165711\n",
       "Name: 7560, dtype: float64"
      ]
     },
     "execution_count": 148,
     "metadata": {},
     "output_type": "execute_result"
    }
   ],
   "source": [
    "# Select the last row for project stock prices (prices of each simulation on the 252nd trading day)\n",
    "ending_cumulative_returns = portfolio_cumulative_returns.iloc[-1, :]\n",
    "ending_cumulative_returns.value_counts(bins=10) / len(ending_cumulative_returns)\n",
    "# Use the `quantile` function to calculate the 90% confidence interval for simulated ending prices\n",
    "confidence_interval = ending_cumulative_returns.quantile(q=[0.05, 0.95])\n",
    "confidence_interval"
   ]
  },
  {
   "cell_type": "code",
   "execution_count": null,
   "metadata": {},
   "outputs": [],
   "source": []
  },
  {
   "cell_type": "code",
   "execution_count": 149,
   "metadata": {},
   "outputs": [
    {
     "data": {
      "text/plain": [
       "<matplotlib.lines.Line2D at 0x148312890>"
      ]
     },
     "execution_count": 149,
     "metadata": {},
     "output_type": "execute_result"
    },
    {
     "data": {
      "image/png": "[encoded data removed]",
      "text/plain": [
       "<Figure size 432x288 with 1 Axes>"
      ]
     },
     "metadata": {
      "needs_background": "light"
     },
     "output_type": "display_data"
    }
   ],
   "source": [
    "# Use the `plot` function to create a probability distribution histogram of simulated ending prices\n",
    "# with markings for a 95% confidence interval\n",
    "plt.figure();\n",
    "ending_cumulative_returns.plot(kind='hist', density=True, bins=10)\n",
    "plt.axvline(confidence_interval.iloc[0], color='r')\n",
    "plt.axvline(confidence_interval.iloc[1], color='r')"
   ]
  },
  {
   "cell_type": "code",
   "execution_count": null,
   "metadata": {},
   "outputs": [],
   "source": []
  },
  {
   "cell_type": "code",
   "execution_count": 150,
   "metadata": {},
   "outputs": [
    {
     "data": {
      "text/plain": [
       "0.05    0.000151\n",
       "0.95    0.165711\n",
       "Name: 7560, dtype: float64"
      ]
     },
     "execution_count": 150,
     "metadata": {},
     "output_type": "execute_result"
    }
   ],
   "source": [
    "confidence_interval_90 = ending_cumulative_returns.quantile(q=[0.05, 0.95])\n",
    "confidence_interval_90"
   ]
  },
  {
   "cell_type": "code",
   "execution_count": 151,
   "metadata": {},
   "outputs": [
    {
     "data": {
      "text/plain": [
       "0.25    0.001268\n",
       "0.75    0.022974\n",
       "Name: 7560, dtype: float64"
      ]
     },
     "execution_count": 151,
     "metadata": {},
     "output_type": "execute_result"
    }
   ],
   "source": [
    "confidence_interval_50 = ending_cumulative_returns.quantile(q=[0.25, 0.75])\n",
    "confidence_interval_50"
   ]
  },
  {
   "cell_type": "code",
   "execution_count": 152,
   "metadata": {},
   "outputs": [
    {
     "data": {
      "text/plain": [
       "0.4    0.002926\n",
       "0.5    0.004795\n",
       "Name: 7560, dtype: float64"
      ]
     },
     "execution_count": 152,
     "metadata": {},
     "output_type": "execute_result"
    }
   ],
   "source": [
    "confidence_interval_10 = ending_cumulative_returns.quantile(q=[0.40, 0.50])\n",
    "confidence_interval_10"
   ]
  },
  {
   "cell_type": "code",
   "execution_count": null,
   "metadata": {},
   "outputs": [],
   "source": []
  },
  {
   "cell_type": "code",
   "execution_count": 153,
   "metadata": {},
   "outputs": [
    {
     "name": "stdout",
     "output_type": "stream",
     "text": [
      "There is a 90% chance that an initial investment of $20,000 in the portfolio over the next 30 years will end within in the range of $20003.013761302613 and $23314.229929267407\n"
     ]
    }
   ],
   "source": [
    "# Set initial investment\n",
    "initial_investment = 20000\n",
    "\n",
    "# Calculate investment profit/loss of lower and upper bound cumulative portfolio returns\n",
    "investment_pnl_lower_bound = initial_investment + (initial_investment * confidence_interval_90.iloc[0])\n",
    "investment_pnl_upper_bound = initial_investment + (initial_investment * confidence_interval_90.iloc[1])\n",
    "                                                    \n",
    "# Print the results\n",
    "print(f\"There is a 90% chance that an initial investment of $20,000 in the portfolio\"\n",
    "      f\" over the next 30 years will end within in the range of\"\n",
    "      f\" ${investment_pnl_lower_bound} and ${investment_pnl_upper_bound}\")"
   ]
  },
  {
   "cell_type": "code",
   "execution_count": 154,
   "metadata": {},
   "outputs": [
    {
     "name": "stdout",
     "output_type": "stream",
     "text": [
      "There is a 50% chance that an initial investment of $20,000 in the portfolio over the next 30 years will end within in the range of $20025.365693244097 and $20459.48217500616\n"
     ]
    }
   ],
   "source": [
    "# Set initial investment\n",
    "initial_investment = 20000\n",
    "\n",
    "# Calculate investment profit/loss of lower and upper bound cumulative portfolio returns\n",
    "investment_pnl_lower_bound = initial_investment + (initial_investment * confidence_interval_50.iloc[0])\n",
    "investment_pnl_upper_bound = initial_investment + (initial_investment * confidence_interval_50.iloc[1])\n",
    "                                                    \n",
    "# Print the results\n",
    "print(f\"There is a 50% chance that an initial investment of $20,000 in the portfolio\"\n",
    "      f\" over the next 30 years will end within in the range of\"\n",
    "      f\" ${investment_pnl_lower_bound} and ${investment_pnl_upper_bound}\")"
   ]
  },
  {
   "cell_type": "code",
   "execution_count": 156,
   "metadata": {},
   "outputs": [
    {
     "name": "stdout",
     "output_type": "stream",
     "text": [
      "There is a 10% chance that an initial investment of $20,000 in the portfolio over the next 30 years will end within in the range of $20058.517112650887 and $20095.908078602577\n"
     ]
    }
   ],
   "source": [
    "#Set initial investment\n",
    "initial_investment = 20000\n",
    "\n",
    "# Calculate investment profit/loss of lower and upper bound cumulative portfolio returns\n",
    "investment_pnl_lower_bound = initial_investment + (initial_investment * confidence_interval_10.iloc[0])\n",
    "investment_pnl_upper_bound = initial_investment + (initial_investment * confidence_interval_10.iloc[1])\n",
    "                                                    \n",
    "# Print the results\n",
    "print(f\"There is a 10% chance that an initial investment of $20,000 in the portfolio\"\n",
    "      f\" over the next 30 years will end within in the range of\"\n",
    "      f\" ${investment_pnl_lower_bound} and ${investment_pnl_upper_bound}\")"
   ]
  },
  {
   "cell_type": "code",
   "execution_count": null,
   "metadata": {},
   "outputs": [],
   "source": [
    "#Given the current projected annual income from the Plaid analysis, will a 4% withdrawal rate meet or exceed that value at the 10th percentile? Note: This is basically determining if retirement income is equivalent to current income."
   ]
  },
  {
   "cell_type": "code",
   "execution_count": null,
   "metadata": {},
   "outputs": [],
   "source": [
    "# No, it would not. 4% with witdrawel rate would give you $800\n",
    "# your projected income is $7389"
   ]
  },
  {
   "cell_type": "code",
   "execution_count": null,
   "metadata": {},
   "outputs": [],
   "source": [
    "How would a 50% increase in the initial investment amount affect the 4% retirement withdrawal? In other words, what happens if the initial investment had been bigger?"
   ]
  },
  {
   "cell_type": "code",
   "execution_count": 157,
   "metadata": {},
   "outputs": [
    {
     "name": "stdout",
     "output_type": "stream",
     "text": [
      "There is a 10% chance that an initial investment of $20,000 in the portfolio over the next 30 years will end within in the range of $30087.77566897633 and $30143.862117903864\n"
     ]
    }
   ],
   "source": [
    "#Set initial investment\n",
    "initial_investment = 30000\n",
    "\n",
    "# Calculate investment profit/loss of lower and upper bound cumulative portfolio returns\n",
    "investment_pnl_lower_bound = initial_investment + (initial_investment * confidence_interval_10.iloc[0])\n",
    "investment_pnl_upper_bound = initial_investment + (initial_investment * confidence_interval_10.iloc[1])\n",
    "                                                    \n",
    "# Print the results\n",
    "print(f\"There is a 10% chance that an initial investment of $20,000 in the portfolio\"\n",
    "      f\" over the next 30 years will end within in the range of\"\n",
    "      f\" ${investment_pnl_lower_bound} and ${investment_pnl_upper_bound}\")"
   ]
  },
  {
   "cell_type": "code",
   "execution_count": null,
   "metadata": {},
   "outputs": [],
   "source": [
    "Still 4% withdraw rate would give you $1200. it is lower than $7389"
   ]
  },
  {
   "cell_type": "code",
   "execution_count": null,
   "metadata": {},
   "outputs": [],
   "source": []
  },
  {
   "cell_type": "code",
   "execution_count": null,
   "metadata": {},
   "outputs": [],
   "source": []
  },
  {
   "cell_type": "markdown",
   "metadata": {},
   "source": [
    "# Monte Carlo Simulation\n",
    "\n",
    "In this step, you will run Monte Carlo Simulations for your portfolio to model portfolio performance at different retirement ages. \n",
    "\n",
    "Complete the following steps:\n",
    "1. Calculate the daily returns for the SPY and AGG closing prices.\n",
    "2. Calculate volatility for both the SPY and AGG closing prices.\n",
    "3. Find the last day's closing price for both stocks and save those as variables.\n",
    "4. Run a Monte Carlo Simulation of at least 500 iterations and generate at least 30 years of closing prices\n",
    "\n",
    "### HINTS:\n",
    "There are 252 trading days per year, so the number of records to generate for each Monte Carlo run will be 252 days * 30 years"
   ]
  },
  {
   "cell_type": "markdown",
   "metadata": {},
   "source": [
    "# Calculate the daily returns for  AGG closing prices"
   ]
  },
  {
   "cell_type": "code",
   "execution_count": 118,
   "metadata": {},
   "outputs": [
    {
     "data": {
      "text/html": [
       "<div>\n",
       "<style scoped>\n",
       "    .dataframe tbody tr th:only-of-type {\n",
       "        vertical-align: middle;\n",
       "    }\n",
       "\n",
       "    .dataframe tbody tr th {\n",
       "        vertical-align: top;\n",
       "    }\n",
       "\n",
       "    .dataframe thead th {\n",
       "        text-align: right;\n",
       "    }\n",
       "</style>\n",
       "<table border=\"1\" class=\"dataframe\">\n",
       "  <thead>\n",
       "    <tr style=\"text-align: right;\">\n",
       "      <th></th>\n",
       "      <th>AGG</th>\n",
       "    </tr>\n",
       "  </thead>\n",
       "  <tbody>\n",
       "    <tr>\n",
       "      <th>2019-12-02</th>\n",
       "      <td>NaN</td>\n",
       "    </tr>\n",
       "    <tr>\n",
       "      <th>2019-12-03</th>\n",
       "      <td>0.004801</td>\n",
       "    </tr>\n",
       "    <tr>\n",
       "      <th>2019-12-04</th>\n",
       "      <td>-0.001947</td>\n",
       "    </tr>\n",
       "    <tr>\n",
       "      <th>2019-12-05</th>\n",
       "      <td>-0.000975</td>\n",
       "    </tr>\n",
       "    <tr>\n",
       "      <th>2019-12-06</th>\n",
       "      <td>-0.001331</td>\n",
       "    </tr>\n",
       "  </tbody>\n",
       "</table>\n",
       "</div>"
      ],
      "text/plain": [
       "                 AGG\n",
       "2019-12-02       NaN\n",
       "2019-12-03  0.004801\n",
       "2019-12-04 -0.001947\n",
       "2019-12-05 -0.000975\n",
       "2019-12-06 -0.001331"
      ]
     },
     "execution_count": 118,
     "metadata": {},
     "output_type": "execute_result"
    }
   ],
   "source": [
    "# Use the `pct_change` function to calculate daily returns of AAPL\n",
    "daily_returns = df.pct_change()\n",
    "daily_returns.head()"
   ]
  },
  {
   "cell_type": "markdown",
   "metadata": {},
   "source": [
    "# Calculate the daily returns for the SPY   closing prices."
   ]
  },
  {
   "cell_type": "code",
   "execution_count": null,
   "metadata": {},
   "outputs": [],
   "source": [
    "# Use the `pct_change` function to calculate daily returns of AAPL\n",
    "daily_returns_spy = spy.pct_change()\n",
    "daily_returns_spy.head()"
   ]
  },
  {
   "cell_type": "markdown",
   "metadata": {},
   "source": [
    "# Calculate volatility  SPY  "
   ]
  },
  {
   "cell_type": "code",
   "execution_count": null,
   "metadata": {},
   "outputs": [],
   "source": [
    "# Use the `std` function to calculate the standard deviation of daily returns for AAPL\n",
    "std_dev_daily_return_spy = daily_returns_spy.std()['close']\n",
    "std_dev_daily_return_spy"
   ]
  },
  {
   "cell_type": "markdown",
   "metadata": {},
   "source": [
    "# Calculate volatility   AGG  "
   ]
  },
  {
   "cell_type": "code",
   "execution_count": null,
   "metadata": {},
   "outputs": [],
   "source": [
    "# Use the `std` function to calculate the standard deviation of daily returns for AAPL\n",
    "std_dev_daily_return_agg = daily_returns_agg.std()['close']\n",
    "std_dev_daily_return_agg"
   ]
  },
  {
   "cell_type": "markdown",
   "metadata": {},
   "source": [
    "# Find the last day's closing price for both stocks and save those as variables."
   ]
  },
  {
   "cell_type": "code",
   "execution_count": null,
   "metadata": {},
   "outputs": [],
   "source": [
    "# Set number of trading days and get last closing price of AAPL from DataFrame\n",
    "num_trading_days = 252 *30\n",
    "num_simulations = 500\n",
    "spy_last_price =spy_n['SPY'][-1]\n",
    "agg_last_price =agg_n['AGG'][-1]\n",
    "spy_last_price "
   ]
  },
  {
   "cell_type": "code",
   "execution_count": null,
   "metadata": {},
   "outputs": [],
   "source": [
    "# Initialize the simulated prices list with the last closing price of AAPL\n",
    "simulated_prices = [spy_last_price]\n",
    "avg_daily_return_spy = daily_returns_spy.mean()['close']\n",
    "\n",
    "# Initialize empty DataFrame to hold simulated prices for each simulation\n",
    "simulated_spyprice_df = pd.DataFrame()\n",
    "\n",
    "# Run the simulation of projecting stock prices for the next trading year, `1000` times\n",
    "for n in range(num_simulations):\n",
    "\n",
    "    # Initialize the simulated prices list with the last closing price of AAPL\n",
    "    simulated_spy_prices = [spy_last_price]\n",
    "    \n",
    "    # Simulate the returns for 252 days\n",
    "    for i in range(num_trading_days):\n",
    "        # Calculate the simulated price using the last price within the list\n",
    "        simulated_price_spy = simulated_spy_prices[-1] * (1 + np.random.normal(avg_daily_return_spy, std_dev_daily_return_spy))\n",
    "        # Append the simulated price to the list\n",
    "        simulated_spy_prices.append(simulated_price_spy)\n",
    "    \n",
    "    # Append a simulated prices of each simulation to DataFrame\n",
    "    simulated_spyprice_df[f\"Simulation {n+1}\"] = pd.Series(simulated_spy_prices)\n",
    "\n",
    "# Print head of DataFrame\n",
    "simulated_spyprice_df.head()"
   ]
  },
  {
   "cell_type": "markdown",
   "metadata": {},
   "source": [
    "# Run a Monte Carlo Simulation of at least 500 iterations and generate at least 30 years of closing prices"
   ]
  },
  {
   "cell_type": "code",
   "execution_count": null,
   "metadata": {},
   "outputs": [],
   "source": [
    "# Initialize the simulated prices list with the last closing price of AAPL\n",
    "simulated_spy_prices = [spy_last_price]\n",
    "avg_daily_return_spy = daily_returns_spy.mean()['close']\n",
    "\n",
    "# Initialize empty DataFrame to hold simulated prices for each simulation\n",
    "simulated_spyprice_df = pd.DataFrame()\n",
    "\n",
    "# Run the simulation of projecting stock prices for the next trading year, `1000` times\n",
    "for n in range(num_simulations):\n",
    "\n",
    "    # Initialize the simulated prices list with the last closing price of AAPL\n",
    "    simulated_spy_prices = [spy_last_price]\n",
    "    \n",
    "    # Simulate the returns for 252 days\n",
    "    for i in range(num_trading_days):\n",
    "        # Calculate the simulated price using the last price within the list\n",
    "        simulated_price_spy = simulated_spy_prices[-1] * (1 + np.random.normal(avg_daily_return_spy, std_dev_daily_return_spy))\n",
    "        # Append the simulated price to the list\n",
    "        simulated_spy_prices.append(simulated_price_spy)\n",
    "    \n",
    "    # Append a simulated prices of each simulation to DataFrame\n",
    "    simulated_spyprice_df[f\"Simulation {n+1}\"] = pd.Series(simulated_spy_prices)\n",
    "\n",
    "# Print head of DataFrame\n",
    "simulated_spyprice_df.head()"
   ]
  },
  {
   "cell_type": "code",
   "execution_count": null,
   "metadata": {},
   "outputs": [],
   "source": [
    "# Calculate the # Initialize the simulated prices list with the last closing price of AAPL\n",
    "simulated_agg_prices = [agg_last_price]\n",
    "avg_daily_return_agg = daily_returns_agg.mean()['close']\n",
    "\n",
    "# Initialize empty DataFrame to hold simulated prices for each simulation\n",
    "simulated_aggprice_df = pd.DataFrame()\n",
    "\n",
    "# Run the simulation of projecting stock prices for the next trading year, `1000` times\n",
    "for n in range(num_simulations):\n",
    "\n",
    "    # Initialize the simulated prices list with the last closing price of AAPL\n",
    "    simulated_agg_prices = [agg_last_price]\n",
    "    \n",
    "    # Simulate the returns for 252 days\n",
    "    for i in range(num_trading_days):\n",
    "        # Calculate the simulated price using the last price within the list\n",
    "        simulated_price_agg = simulated_agg_prices[-1] * (1 + np.random.normal(avg_daily_return_agg, std_dev_daily_return_agg))\n",
    "        # Append the simulated price to the list\n",
    "        simulated_agg_prices.append(simulated_price_agg)\n",
    "    \n",
    "    # Append a simulated prices of each simulation to DataFrame\n",
    "    simulated_aggprice_df[f\"Simulation {n+1}\"] = pd.Series(simulated_agg_prices)\n",
    "\n",
    "# Print head of DataFrame\n",
    "simulated_aggprice_df.head() \n"
   ]
  },
  {
   "cell_type": "code",
   "execution_count": 8,
   "metadata": {
    "collapsed": true,
    "jupyter": {
     "outputs_hidden": true
    }
   },
   "outputs": [],
   "source": [
    " # Use the `plot` function to plot the trajectory of SPY stock based on a 252 trading day simulation\n",
    "plot_title = f\"{n+1} Simulations of SPY Stock Price Trajectory Over the Next 252 Trading Days\"\n",
    "simulated_spyprice_df.plot(legend=None, title=plot_title)"
   ]
  },
  {
   "cell_type": "code",
   "execution_count": 9,
   "metadata": {},
   "outputs": [],
   "source": [
    " # Use the `plot` function to plot the trajectory of AGG stock based on a 252 trading day simulation\n",
    "plot_title = f\"{n+1} Simulations of SPY Stock Price Trajectory Over the Next 252 Trading Days\"\n",
    "simulated_aggprice_df.plot(legend=None, title=plot_title)"
   ]
  },
  {
   "cell_type": "code",
   "execution_count": 130,
   "metadata": {},
   "outputs": [],
   "source": [
    " "
   ]
  },
  {
   "cell_type": "code",
   "execution_count": 11,
   "metadata": {},
   "outputs": [],
   "source": [
    " "
   ]
  },
  {
   "cell_type": "code",
   "execution_count": null,
   "metadata": {},
   "outputs": [],
   "source": [
    " "
   ]
  },
  {
   "cell_type": "code",
   "execution_count": 14,
   "metadata": {},
   "outputs": [],
   "source": [
    "# Select the last row for the cumulative returns (cumulative returns at 30 years)\n",
    "# YOUR CODE HERE"
   ]
  },
  {
   "cell_type": "code",
   "execution_count": null,
   "metadata": {},
   "outputs": [],
   "source": [
    "# Select the last row for the cumulative returns (cumulative returns at 20 years)\n",
    "# YOUR CODE HERE"
   ]
  },
  {
   "cell_type": "code",
   "execution_count": null,
   "metadata": {},
   "outputs": [],
   "source": [
    "# Display the 90% confidence interval for the ending returns\n",
    "# YOUR CODE HERE"
   ]
  },
  {
   "cell_type": "code",
   "execution_count": null,
   "metadata": {},
   "outputs": [],
   "source": [
    "# Visualize the distribution of the ending returns\n",
    "# YOUR CODE HERE"
   ]
  },
  {
   "cell_type": "markdown",
   "metadata": {},
   "source": [
    "---"
   ]
  },
  {
   "cell_type": "markdown",
   "metadata": {},
   "source": [
    "# Retirement Analysis\n",
    "\n",
    "In this section, you will use the monte carlo model to answer the following retirement planning questions:\n",
    "\n",
    "1. What are the expected cumulative returns at 30 years for the 10th, 50th, and 90th percentiles?\n",
    "2. Given an initial investment of `$20,000`, what is the expected portfolio return in dollars at the 10th, 50th, and 90th percentiles?\n",
    "3. Given the current projected annual income from the Plaid analysis, will a 4% withdraw rate from the retirement portfolio meet or exceed that value at the 10th percentile?\n",
    "4. How would a 50% increase in the initial investment amount affect the 4% retirement withdrawal?"
   ]
  },
  {
   "cell_type": "markdown",
   "metadata": {},
   "source": [
    "### What are the expected cumulative returns at 30 years for the 10th, 50th, and 90th percentiles?"
   ]
  },
  {
   "cell_type": "code",
   "execution_count": null,
   "metadata": {},
   "outputs": [],
   "source": [
    "# YOUR CODE HERE"
   ]
  },
  {
   "cell_type": "markdown",
   "metadata": {},
   "source": [
    "### Given an initial investment of `$20,000`, what is the expected portfolio return in dollars at the 10th, 50th, and 90th percentiles?"
   ]
  },
  {
   "cell_type": "code",
   "execution_count": null,
   "metadata": {},
   "outputs": [],
   "source": [
    "# YOUR CODE HERE"
   ]
  },
  {
   "cell_type": "markdown",
   "metadata": {},
   "source": [
    "### Given the current projected annual income from the Plaid analysis, will a 4% withdraw rate from the retirement portfolio meet or exceed that value at the 10th percentile?\n",
    "\n",
    "Note: This is effectively saying that 90% of the expected returns will be greater than the return at the 10th percentile, so this can help measure the uncertainty about having enough funds at retirement"
   ]
  },
  {
   "cell_type": "code",
   "execution_count": null,
   "metadata": {},
   "outputs": [],
   "source": [
    "# YOUR CODE HERE"
   ]
  },
  {
   "cell_type": "markdown",
   "metadata": {},
   "source": [
    "### How would a 50% increase in the initial investment amount affect the 4% retirement withdrawal?"
   ]
  },
  {
   "cell_type": "code",
   "execution_count": null,
   "metadata": {},
   "outputs": [],
   "source": [
    "# YOUR CODE HERE"
   ]
  },
  {
   "cell_type": "markdown",
   "metadata": {},
   "source": [
    "### Optional Challenge\n",
    "\n",
    "In this section, you will calculate and plot the cumulative returns for the median and 90% confidence intervals. This plot shows the expected cumulative returns for any given day between the first day and the last day of investment. "
   ]
  },
  {
   "cell_type": "code",
   "execution_count": null,
   "metadata": {},
   "outputs": [],
   "source": [
    "# YOUR CODE HERE"
   ]
  }
 ],
 "metadata": {
  "kernel_info": {
   "name": "dev"
  },
  "kernelspec": {
   "display_name": "Python 3",
   "language": "python",
   "name": "python3"
  },
  "language_info": {
   "codemirror_mode": {
    "name": "ipython",
    "version": 3
   },
   "file_extension": ".py",
   "mimetype": "text/x-python",
   "name": "python",
   "nbconvert_exporter": "python",
   "pygments_lexer": "ipython3",
   "version": "3.7.6"
  },
  "nteract": {
   "version": "0.12.3"
  }
 },
 "nbformat": 4,
 "nbformat_minor": 4
}
